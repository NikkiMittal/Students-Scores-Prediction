{
 "cells": [
  {
   "cell_type": "markdown",
   "id": "3544652e",
   "metadata": {},
   "source": [
    "## Author: Nikki Mittal"
   ]
  },
  {
   "cell_type": "markdown",
   "id": "ec815381",
   "metadata": {},
   "source": [
    "## Data Science and Business Analytics Intern\n"
   ]
  },
  {
   "cell_type": "markdown",
   "id": "ad46f60d",
   "metadata": {},
   "source": [
    "## The Sparks Foundation"
   ]
  },
  {
   "cell_type": "markdown",
   "id": "1b3660a9",
   "metadata": {},
   "source": [
    "### GRIP DECEMBER 2022"
   ]
  },
  {
   "cell_type": "markdown",
   "id": "84a25ece",
   "metadata": {},
   "source": [
    "## Task 1: Prediction using Supervised ML"
   ]
  },
  {
   "cell_type": "markdown",
   "id": "c8ab7b6b",
   "metadata": {},
   "source": [
    "### Prediction of the scores secured by a student based on the number of hours he/she studies per day."
   ]
  },
  {
   "cell_type": "markdown",
   "id": "4009e1f7",
   "metadata": {},
   "source": [
    "The dataset contains details of the number of hours a student studies and how much scores he/she secured. The goal is to build a Machine Learning Model to predict the score if the student studies for 9.25 hours/day.\n",
    "\n",
    "This is a simple Linear Regression Model in which the score is the dependent variable and number of hours is the independent variable."
   ]
  },
  {
   "cell_type": "markdown",
   "id": "308c8096",
   "metadata": {},
   "source": [
    "### Importing the required libraries"
   ]
  },
  {
   "cell_type": "code",
   "execution_count": 1,
   "id": "0ab4b7c5",
   "metadata": {},
   "outputs": [],
   "source": [
    "import pandas as pd\n",
    "import matplotlib.pyplot as plt  \n",
    "import seaborn as sns\n",
    "%matplotlib inline\n",
    "\n",
    "import warnings \n",
    "warnings.filterwarnings(action= 'ignore')"
   ]
  },
  {
   "cell_type": "markdown",
   "id": "b4296913",
   "metadata": {},
   "source": [
    "### Loading the dataset"
   ]
  },
  {
   "cell_type": "code",
   "execution_count": 2,
   "id": "2663e690",
   "metadata": {},
   "outputs": [
    {
     "name": "stdout",
     "output_type": "stream",
     "text": [
      "(25, 2)\n"
     ]
    },
    {
     "data": {
      "text/html": [
       "<div>\n",
       "<style scoped>\n",
       "    .dataframe tbody tr th:only-of-type {\n",
       "        vertical-align: middle;\n",
       "    }\n",
       "\n",
       "    .dataframe tbody tr th {\n",
       "        vertical-align: top;\n",
       "    }\n",
       "\n",
       "    .dataframe thead th {\n",
       "        text-align: right;\n",
       "    }\n",
       "</style>\n",
       "<table border=\"1\" class=\"dataframe\">\n",
       "  <thead>\n",
       "    <tr style=\"text-align: right;\">\n",
       "      <th></th>\n",
       "      <th>Hours</th>\n",
       "      <th>Scores</th>\n",
       "    </tr>\n",
       "  </thead>\n",
       "  <tbody>\n",
       "    <tr>\n",
       "      <th>0</th>\n",
       "      <td>2.5</td>\n",
       "      <td>21</td>\n",
       "    </tr>\n",
       "    <tr>\n",
       "      <th>1</th>\n",
       "      <td>5.1</td>\n",
       "      <td>47</td>\n",
       "    </tr>\n",
       "    <tr>\n",
       "      <th>2</th>\n",
       "      <td>3.2</td>\n",
       "      <td>27</td>\n",
       "    </tr>\n",
       "    <tr>\n",
       "      <th>3</th>\n",
       "      <td>8.5</td>\n",
       "      <td>75</td>\n",
       "    </tr>\n",
       "    <tr>\n",
       "      <th>4</th>\n",
       "      <td>3.5</td>\n",
       "      <td>30</td>\n",
       "    </tr>\n",
       "  </tbody>\n",
       "</table>\n",
       "</div>"
      ],
      "text/plain": [
       "   Hours  Scores\n",
       "0    2.5      21\n",
       "1    5.1      47\n",
       "2    3.2      27\n",
       "3    8.5      75\n",
       "4    3.5      30"
      ]
     },
     "execution_count": 2,
     "metadata": {},
     "output_type": "execute_result"
    }
   ],
   "source": [
    "data = pd.read_csv('https://raw.githubusercontent.com/AdiPersonalWorks/Random/master/student_scores%20-%20student_scores.csv')\n",
    "print(data.shape)                 \n",
    "data.head(5)                       "
   ]
  },
  {
   "cell_type": "markdown",
   "id": "b0c70949",
   "metadata": {},
   "source": [
    "The dataset contains 25 rows and 2 columns. The dataset contains the details of the number of hours a student studies and the scores secured."
   ]
  },
  {
   "cell_type": "markdown",
   "id": "3468f059",
   "metadata": {},
   "source": [
    "### Exploring the dataset"
   ]
  },
  {
   "cell_type": "code",
   "execution_count": 3,
   "id": "33d68f3a",
   "metadata": {},
   "outputs": [
    {
     "data": {
      "text/html": [
       "<div>\n",
       "<style scoped>\n",
       "    .dataframe tbody tr th:only-of-type {\n",
       "        vertical-align: middle;\n",
       "    }\n",
       "\n",
       "    .dataframe tbody tr th {\n",
       "        vertical-align: top;\n",
       "    }\n",
       "\n",
       "    .dataframe thead th {\n",
       "        text-align: right;\n",
       "    }\n",
       "</style>\n",
       "<table border=\"1\" class=\"dataframe\">\n",
       "  <thead>\n",
       "    <tr style=\"text-align: right;\">\n",
       "      <th></th>\n",
       "      <th>Hours</th>\n",
       "      <th>Scores</th>\n",
       "    </tr>\n",
       "  </thead>\n",
       "  <tbody>\n",
       "    <tr>\n",
       "      <th>count</th>\n",
       "      <td>25.000000</td>\n",
       "      <td>25.000000</td>\n",
       "    </tr>\n",
       "    <tr>\n",
       "      <th>mean</th>\n",
       "      <td>5.012000</td>\n",
       "      <td>51.480000</td>\n",
       "    </tr>\n",
       "    <tr>\n",
       "      <th>std</th>\n",
       "      <td>2.525094</td>\n",
       "      <td>25.286887</td>\n",
       "    </tr>\n",
       "    <tr>\n",
       "      <th>min</th>\n",
       "      <td>1.100000</td>\n",
       "      <td>17.000000</td>\n",
       "    </tr>\n",
       "    <tr>\n",
       "      <th>25%</th>\n",
       "      <td>2.700000</td>\n",
       "      <td>30.000000</td>\n",
       "    </tr>\n",
       "    <tr>\n",
       "      <th>50%</th>\n",
       "      <td>4.800000</td>\n",
       "      <td>47.000000</td>\n",
       "    </tr>\n",
       "    <tr>\n",
       "      <th>75%</th>\n",
       "      <td>7.400000</td>\n",
       "      <td>75.000000</td>\n",
       "    </tr>\n",
       "    <tr>\n",
       "      <th>max</th>\n",
       "      <td>9.200000</td>\n",
       "      <td>95.000000</td>\n",
       "    </tr>\n",
       "  </tbody>\n",
       "</table>\n",
       "</div>"
      ],
      "text/plain": [
       "           Hours     Scores\n",
       "count  25.000000  25.000000\n",
       "mean    5.012000  51.480000\n",
       "std     2.525094  25.286887\n",
       "min     1.100000  17.000000\n",
       "25%     2.700000  30.000000\n",
       "50%     4.800000  47.000000\n",
       "75%     7.400000  75.000000\n",
       "max     9.200000  95.000000"
      ]
     },
     "execution_count": 3,
     "metadata": {},
     "output_type": "execute_result"
    }
   ],
   "source": [
    "#for statistical description of data\n",
    "\n",
    "data.describe()"
   ]
  },
  {
   "cell_type": "markdown",
   "id": "d5bcc153",
   "metadata": {},
   "source": [
    "The dataset seems outliers free based on the values of mean and standard deviation but it is needed to check whether there are any outliers or not."
   ]
  },
  {
   "cell_type": "code",
   "execution_count": 4,
   "id": "aee096e3",
   "metadata": {},
   "outputs": [
    {
     "name": "stdout",
     "output_type": "stream",
     "text": [
      "<class 'pandas.core.frame.DataFrame'>\n",
      "RangeIndex: 25 entries, 0 to 24\n",
      "Data columns (total 2 columns):\n",
      " #   Column  Non-Null Count  Dtype  \n",
      "---  ------  --------------  -----  \n",
      " 0   Hours   25 non-null     float64\n",
      " 1   Scores  25 non-null     int64  \n",
      "dtypes: float64(1), int64(1)\n",
      "memory usage: 528.0 bytes\n"
     ]
    }
   ],
   "source": [
    "#More information about the dataset\n",
    "\n",
    "data.info()"
   ]
  },
  {
   "cell_type": "markdown",
   "id": "13fb792d",
   "metadata": {},
   "source": [
    "Clearly, there are no null values in the dataset."
   ]
  },
  {
   "cell_type": "markdown",
   "id": "56482a00",
   "metadata": {},
   "source": [
    "### Data Cleaning"
   ]
  },
  {
   "cell_type": "code",
   "execution_count": 5,
   "id": "d5367f98",
   "metadata": {},
   "outputs": [
    {
     "name": "stdout",
     "output_type": "stream",
     "text": [
      "Hours     0\n",
      "Scores    0\n",
      "dtype: int64\n"
     ]
    },
    {
     "data": {
      "text/plain": [
       "<AxesSubplot:>"
      ]
     },
     "execution_count": 5,
     "metadata": {},
     "output_type": "execute_result"
    },
    {
     "data": {
      "image/png": "[encoded data removed]",
      "text/plain": [
       "<Figure size 432x288 with 2 Axes>"
      ]
     },
     "metadata": {
      "needs_background": "light"
     },
     "output_type": "display_data"
    }
   ],
   "source": [
    "#Confirming if there are any null values\n",
    "\n",
    "nullvalues_check = data.isnull().sum() \n",
    "print(nullvalues_check)\n",
    "\n",
    "sns.heatmap(data.isnull(), yticklabels = False)"
   ]
  },
  {
   "cell_type": "markdown",
   "id": "0a08baa1",
   "metadata": {},
   "source": [
    "It is confirmed that the dataset has no null values."
   ]
  },
  {
   "cell_type": "code",
   "execution_count": 6,
   "id": "559ca702",
   "metadata": {},
   "outputs": [
    {
     "data": {
      "text/plain": [
       "0     False\n",
       "1     False\n",
       "2     False\n",
       "3     False\n",
       "4     False\n",
       "5     False\n",
       "6     False\n",
       "7     False\n",
       "8     False\n",
       "9     False\n",
       "10    False\n",
       "11    False\n",
       "12    False\n",
       "13    False\n",
       "14    False\n",
       "15    False\n",
       "16    False\n",
       "17    False\n",
       "18    False\n",
       "19    False\n",
       "20    False\n",
       "21    False\n",
       "22    False\n",
       "23    False\n",
       "24    False\n",
       "dtype: bool"
      ]
     },
     "execution_count": 6,
     "metadata": {},
     "output_type": "execute_result"
    }
   ],
   "source": [
    "#Checking if there is any duplicate value:\n",
    "\n",
    "data.duplicated()"
   ]
  },
  {
   "cell_type": "markdown",
   "id": "cfa80840",
   "metadata": {},
   "source": [
    "Clearly, there are no duplicate values in the dataset."
   ]
  },
  {
   "cell_type": "code",
   "execution_count": 7,
   "id": "1a2b63c2",
   "metadata": {},
   "outputs": [
    {
     "data": {
      "text/plain": [
       "<AxesSubplot:>"
      ]
     },
     "execution_count": 7,
     "metadata": {},
     "output_type": "execute_result"
    },
    {
     "data": {
      "image/png": "[encoded data removed]",
      "text/plain": [
       "<Figure size 432x288 with 1 Axes>"
      ]
     },
     "metadata": {
      "needs_background": "light"
     },
     "output_type": "display_data"
    }
   ],
   "source": [
    "#Outliers Detection\n",
    "\n",
    "data[['Hours']].boxplot()"
   ]
  },
  {
   "cell_type": "markdown",
   "id": "cbaf7e15",
   "metadata": {},
   "source": [
    "There are no outliers in the Hours column."
   ]
  },
  {
   "cell_type": "code",
   "execution_count": 8,
   "id": "7ae35aba",
   "metadata": {},
   "outputs": [
    {
     "data": {
      "text/plain": [
       "<AxesSubplot:>"
      ]
     },
     "execution_count": 8,
     "metadata": {},
     "output_type": "execute_result"
    },
    {
     "data": {
      "image/png": "[encoded data removed]",
      "text/plain": [
       "<Figure size 432x288 with 1 Axes>"
      ]
     },
     "metadata": {
      "needs_background": "light"
     },
     "output_type": "display_data"
    }
   ],
   "source": [
    "data[['Scores']].boxplot()"
   ]
  },
  {
   "cell_type": "markdown",
   "id": "6ea4c0aa",
   "metadata": {},
   "source": [
    "There are no outliers in the Scores column. The dataset is outliers - free. The dataset can now be visualized and analyzed."
   ]
  },
  {
   "cell_type": "markdown",
   "id": "8fedb302",
   "metadata": {},
   "source": [
    "### Visualization of the dataset"
   ]
  },
  {
   "cell_type": "markdown",
   "id": "6beaa0bc",
   "metadata": {},
   "source": [
    "#### Univariate Analysis"
   ]
  },
  {
   "cell_type": "code",
   "execution_count": 9,
   "id": "0fab724c",
   "metadata": {},
   "outputs": [
    {
     "data": {
      "text/plain": [
       "Text(0.5, 1.0, 'Distribution of Study Hours')"
      ]
     },
     "execution_count": 9,
     "metadata": {},
     "output_type": "execute_result"
    },
    {
     "data": {
      "image/png": "[encoded data removed]",
      "text/plain": [
       "<Figure size 576x360 with 1 Axes>"
      ]
     },
     "metadata": {
      "needs_background": "light"
     },
     "output_type": "display_data"
    }
   ],
   "source": [
    "#Distribution of the Hours column:\n",
    "\n",
    "plt.figure(figsize = (8,5))\n",
    "sns.distplot(data.Hours)\n",
    "plt.title(\"Distribution of Study Hours\")"
   ]
  },
  {
   "cell_type": "markdown",
   "id": "7d86a8d3",
   "metadata": {},
   "source": [
    "The hours of the student lie between the range of 1 to 10. The distribution seems slightly rightly skewed."
   ]
  },
  {
   "cell_type": "code",
   "execution_count": 10,
   "id": "95a24189",
   "metadata": {},
   "outputs": [
    {
     "data": {
      "text/plain": [
       "0.1903382010052985"
      ]
     },
     "execution_count": 10,
     "metadata": {},
     "output_type": "execute_result"
    }
   ],
   "source": [
    "#Skewness of Hours column values\n",
    "\n",
    "data.Hours.skew()"
   ]
  },
  {
   "cell_type": "markdown",
   "id": "f1ea1952",
   "metadata": {},
   "source": [
    "The distribution of the hours is slightly rightly skewed. "
   ]
  },
  {
   "cell_type": "code",
   "execution_count": 11,
   "id": "36727285",
   "metadata": {},
   "outputs": [
    {
     "data": {
      "text/plain": [
       "Text(0.5, 1.0, 'Distribution of Scores')"
      ]
     },
     "execution_count": 11,
     "metadata": {},
     "output_type": "execute_result"
    },
    {
     "data": {
      "image/png": "[encoded data removed]",
      "text/plain": [
       "<Figure size 576x360 with 1 Axes>"
      ]
     },
     "metadata": {
      "needs_background": "light"
     },
     "output_type": "display_data"
    }
   ],
   "source": [
    "#Distribution of the Scores column:\n",
    "\n",
    "plt.figure(figsize = (8,5))\n",
    "sns.distplot(data.Scores)\n",
    "plt.title(\"Distribution of Scores\")"
   ]
  },
  {
   "cell_type": "markdown",
   "id": "da0fddcc",
   "metadata": {},
   "source": [
    "The scores lie between the range of 10 to 100. The distribution seems slightly rightly skewed."
   ]
  },
  {
   "cell_type": "code",
   "execution_count": 12,
   "id": "e998b6ec",
   "metadata": {},
   "outputs": [
    {
     "data": {
      "text/plain": [
       "0.2339646665397317"
      ]
     },
     "execution_count": 12,
     "metadata": {},
     "output_type": "execute_result"
    }
   ],
   "source": [
    "#Skewness of Scores column values\n",
    "\n",
    "data.Scores.skew()"
   ]
  },
  {
   "cell_type": "markdown",
   "id": "5c2c8764",
   "metadata": {},
   "source": [
    "The distribution of the scores is also slightly right skewed."
   ]
  },
  {
   "cell_type": "markdown",
   "id": "d6da1ae0",
   "metadata": {},
   "source": [
    "#### Bivariate Analysis"
   ]
  },
  {
   "cell_type": "code",
   "execution_count": 13,
   "id": "823cf7ea",
   "metadata": {},
   "outputs": [
    {
     "data": {
      "text/plain": [
       "<seaborn.axisgrid.PairGrid at 0x19b2821c9a0>"
      ]
     },
     "execution_count": 13,
     "metadata": {},
     "output_type": "execute_result"
    },
    {
     "data": {
      "image/png": "[encoded data removed]",
      "text/plain": [
       "<Figure size 360x360 with 6 Axes>"
      ]
     },
     "metadata": {
      "needs_background": "light"
     },
     "output_type": "display_data"
    }
   ],
   "source": [
    "#Pairplot\n",
    "sns.pairplot(data, diag_kind = 'hist', vars = ['Hours', 'Scores'])"
   ]
  },
  {
   "cell_type": "markdown",
   "id": "77bbb0a4",
   "metadata": {},
   "source": [
    "The pairplot shows that with increase in number of hours, the scores also increase in most of the cases."
   ]
  },
  {
   "cell_type": "code",
   "execution_count": 14,
   "id": "dd6ed8a6",
   "metadata": {},
   "outputs": [
    {
     "data": {
      "image/png": "[encoded data removed]",
      "text/plain": [
       "<Figure size 576x360 with 1 Axes>"
      ]
     },
     "metadata": {
      "needs_background": "light"
     },
     "output_type": "display_data"
    }
   ],
   "source": [
    "#Regression Plot\n",
    "\n",
    "plt.figure(figsize = (8, 5))\n",
    "sns.regplot(x = data['Hours'], y = data['Scores'], color = \"Orange\", ci = None)\n",
    "plt.xlabel(\"Study Hours\")\n",
    "plt.ylabel(\"Scores of the student\")\n",
    "plt.title(\"Study Hours versus Scores of the student\")\n",
    "\n",
    "plt.show()"
   ]
  },
  {
   "cell_type": "markdown",
   "id": "d020e603",
   "metadata": {},
   "source": [
    "A linear relation is there between the study hours and the scores obtained."
   ]
  },
  {
   "cell_type": "code",
   "execution_count": 15,
   "id": "b0039e80",
   "metadata": {},
   "outputs": [
    {
     "data": {
      "text/plain": [
       "<AxesSubplot:>"
      ]
     },
     "execution_count": 15,
     "metadata": {},
     "output_type": "execute_result"
    },
    {
     "data": {
      "image/png": "[encoded data removed]",
      "text/plain": [
       "<Figure size 432x288 with 2 Axes>"
      ]
     },
     "metadata": {
      "needs_background": "light"
     },
     "output_type": "display_data"
    }
   ],
   "source": [
    "#Correlation Plot\n",
    "\n",
    "sns.heatmap(data.corr(), annot=True)"
   ]
  },
  {
   "cell_type": "markdown",
   "id": "2281e9ad",
   "metadata": {},
   "source": [
    "The hours and scores are highly correlated with a correlation coefficient of 0.98. This means that if the student increases his/her number of hours of study, there are high chances that his/her scores will also increase accordingly."
   ]
  },
  {
   "cell_type": "markdown",
   "id": "2dca2729",
   "metadata": {},
   "source": [
    "### Building Machine Learning Model "
   ]
  },
  {
   "cell_type": "markdown",
   "id": "b1028365",
   "metadata": {},
   "source": [
    "#### Linear Regression Model to predict the scores based on 9.25 hours/day study"
   ]
  },
  {
   "cell_type": "code",
   "execution_count": 16,
   "id": "fbc1611f",
   "metadata": {},
   "outputs": [],
   "source": [
    "#Importing required libraries\n",
    "\n",
    "from sklearn.linear_model import LinearRegression\n",
    "from sklearn.model_selection import train_test_split, cross_val_score\n",
    "from sklearn.metrics import r2_score, mean_squared_error, mean_absolute_error\n",
    "import numpy as np"
   ]
  },
  {
   "cell_type": "code",
   "execution_count": 17,
   "id": "d6b27eda",
   "metadata": {},
   "outputs": [],
   "source": [
    "#Defining x and y values:\n",
    "\n",
    "x = data[['Hours']].values\n",
    "y = data['Scores'].values"
   ]
  },
  {
   "cell_type": "code",
   "execution_count": 18,
   "id": "c945cb41",
   "metadata": {},
   "outputs": [],
   "source": [
    "#Splitting the data into training and testing datasets (80% training data and 20% testing data):\n",
    "\n",
    "x_train, x_test, y_train, y_test = train_test_split(x, y, test_size = 0.20, random_state = 0)"
   ]
  },
  {
   "cell_type": "markdown",
   "id": "dfff9dd1",
   "metadata": {},
   "source": [
    "#### Defining and fitting the Linear Regression Model"
   ]
  },
  {
   "cell_type": "code",
   "execution_count": 19,
   "id": "ca661721",
   "metadata": {},
   "outputs": [
    {
     "name": "stdout",
     "output_type": "stream",
     "text": [
      "LinearRegression()\n"
     ]
    }
   ],
   "source": [
    "#Training the model to predict the scores:\n",
    "\n",
    "LR_Model = LinearRegression().fit(x_train, y_train)\n",
    "print(LR_Model)"
   ]
  },
  {
   "cell_type": "code",
   "execution_count": 20,
   "id": "2aa99c45",
   "metadata": {},
   "outputs": [],
   "source": [
    "#Prediction from the model\n",
    "y_pred = LR_Model.predict(x_test)                    "
   ]
  },
  {
   "cell_type": "code",
   "execution_count": 21,
   "id": "39b03dcf",
   "metadata": {},
   "outputs": [
    {
     "name": "stdout",
     "output_type": "stream",
     "text": [
      "Slope or Coefficient: [9.91065648]\n",
      "Intercept: 2.018160041434683\n"
     ]
    }
   ],
   "source": [
    "#Slope/Coefficient and intercepts of the model\n",
    "\n",
    "print('Slope or Coefficient:', LR_Model.coef_)\n",
    "print('Intercept:', LR_Model.intercept_)"
   ]
  },
  {
   "cell_type": "code",
   "execution_count": 22,
   "id": "30f023c3",
   "metadata": {},
   "outputs": [
    {
     "name": "stdout",
     "output_type": "stream",
     "text": [
      "The equation of regression line is: Scores = [9.91065648] * Study Hours + 2.018160041434683\n"
     ]
    }
   ],
   "source": [
    "print('The equation of regression line is: Scores =', LR_Model.coef_ , '* Study Hours +',  LR_Model.intercept_ )"
   ]
  },
  {
   "cell_type": "markdown",
   "id": "c082caa3",
   "metadata": {},
   "source": [
    "### Evaluating the model"
   ]
  },
  {
   "cell_type": "code",
   "execution_count": 23,
   "id": "634bb708",
   "metadata": {},
   "outputs": [
    {
     "name": "stdout",
     "output_type": "stream",
     "text": [
      "R2 Score is: 0.95\n",
      "Root Mean Squared Error is: 4.65\n",
      "Mean Absolute Error is: 4.18\n"
     ]
    }
   ],
   "source": [
    "#Calculating the important metrics\n",
    "\n",
    "print('R2 Score is:', round(r2_score(y_test, y_pred), 2))\n",
    "print('Root Mean Squared Error is:', round(np.sqrt(mean_squared_error(y_test, y_pred)), 2))\n",
    "print('Mean Absolute Error is:', round(mean_absolute_error(y_test, y_pred), 2))\n"
   ]
  },
  {
   "cell_type": "markdown",
   "id": "aaea3607",
   "metadata": {},
   "source": [
    "R2 Score is approximate 0.95 which indicates that the model is good in predicting the scores. \n",
    "\n",
    "Root Mean Squared Error measures how well the regression line fits the data points. The low RMSE value indicates that the predicted and observed Scores are close to each other indicating a good accuracy. \n",
    "\n",
    "Mean Absolute Error of 4.18 tells that we can expect an average error of 4.18 from the predictions or the average difference between the predicted values and actual values is 4.18.\n",
    "\n"
   ]
  },
  {
   "cell_type": "code",
   "execution_count": 24,
   "id": "47b982d9",
   "metadata": {},
   "outputs": [
    {
     "data": {
      "text/html": [
       "<div>\n",
       "<style scoped>\n",
       "    .dataframe tbody tr th:only-of-type {\n",
       "        vertical-align: middle;\n",
       "    }\n",
       "\n",
       "    .dataframe tbody tr th {\n",
       "        vertical-align: top;\n",
       "    }\n",
       "\n",
       "    .dataframe thead th {\n",
       "        text-align: right;\n",
       "    }\n",
       "</style>\n",
       "<table border=\"1\" class=\"dataframe\">\n",
       "  <thead>\n",
       "    <tr style=\"text-align: right;\">\n",
       "      <th></th>\n",
       "      <th>Actual</th>\n",
       "      <th>Predicted</th>\n",
       "      <th>Error</th>\n",
       "    </tr>\n",
       "  </thead>\n",
       "  <tbody>\n",
       "    <tr>\n",
       "      <th>0</th>\n",
       "      <td>20</td>\n",
       "      <td>16.884145</td>\n",
       "      <td>3.115855</td>\n",
       "    </tr>\n",
       "    <tr>\n",
       "      <th>1</th>\n",
       "      <td>27</td>\n",
       "      <td>33.732261</td>\n",
       "      <td>-6.732261</td>\n",
       "    </tr>\n",
       "    <tr>\n",
       "      <th>2</th>\n",
       "      <td>69</td>\n",
       "      <td>75.357018</td>\n",
       "      <td>-6.357018</td>\n",
       "    </tr>\n",
       "    <tr>\n",
       "      <th>3</th>\n",
       "      <td>30</td>\n",
       "      <td>26.794801</td>\n",
       "      <td>3.205199</td>\n",
       "    </tr>\n",
       "    <tr>\n",
       "      <th>4</th>\n",
       "      <td>62</td>\n",
       "      <td>60.491033</td>\n",
       "      <td>1.508967</td>\n",
       "    </tr>\n",
       "  </tbody>\n",
       "</table>\n",
       "</div>"
      ],
      "text/plain": [
       "   Actual  Predicted     Error\n",
       "0      20  16.884145  3.115855\n",
       "1      27  33.732261 -6.732261\n",
       "2      69  75.357018 -6.357018\n",
       "3      30  26.794801  3.205199\n",
       "4      62  60.491033  1.508967"
      ]
     },
     "execution_count": 24,
     "metadata": {},
     "output_type": "execute_result"
    }
   ],
   "source": [
    "#Comparison of actual and predicted value\n",
    "\n",
    "data1 = pd.DataFrame({'Actual': y_test, 'Predicted': y_pred, 'Error': y_test - y_pred})\n",
    "data1.head()"
   ]
  },
  {
   "cell_type": "markdown",
   "id": "fe78c879",
   "metadata": {},
   "source": [
    "It can be clearly seen that there is not much variation in the predicted values and the actual values."
   ]
  },
  {
   "cell_type": "code",
   "execution_count": 25,
   "id": "75208f01",
   "metadata": {},
   "outputs": [
    {
     "data": {
      "image/png": "[encoded data removed]",
      "text/plain": [
       "<Figure size 576x360 with 1 Axes>"
      ]
     },
     "metadata": {
      "needs_background": "light"
     },
     "output_type": "display_data"
    }
   ],
   "source": [
    "data1.plot(kind = 'bar',figsize = (8,5))\n",
    "plt.grid(which = 'major', linestyle ='-', linewidth='0.1', color = 'black')\n",
    "plt.show()"
   ]
  },
  {
   "cell_type": "markdown",
   "id": "95929f62",
   "metadata": {},
   "source": [
    "The very less variation in the predicted and actual values can be seen in the above plot."
   ]
  },
  {
   "cell_type": "markdown",
   "id": "8b50f400",
   "metadata": {},
   "source": [
    "### Prediction of scores when number of hours of study = 9.25 hours/day"
   ]
  },
  {
   "cell_type": "code",
   "execution_count": 26,
   "id": "879ddf01",
   "metadata": {},
   "outputs": [
    {
     "name": "stdout",
     "output_type": "stream",
     "text": [
      "[93.69173249]\n"
     ]
    }
   ],
   "source": [
    "Predicted_Score = LR_Model.predict([[9.25]])\n",
    "print(Predicted_Score)"
   ]
  },
  {
   "cell_type": "markdown",
   "id": "5aa19db5",
   "metadata": {},
   "source": [
    "If number of study hours/day is 9.25, then the model predicts that the student will get an approximate score of 94."
   ]
  },
  {
   "cell_type": "markdown",
   "id": "23c11c61",
   "metadata": {},
   "source": [
    "### Conclusions\n",
    "\n",
    "1. The student will score approximate 94 if he/she studies for 9.25 hours/day.\n",
    "2. The model shows a good accuracy in predicting the scores."
   ]
  }
 ],
 "metadata": {
  "kernelspec": {
   "display_name": "Python 3 (ipykernel)",
   "language": "python",
   "name": "python3"
  },
  "language_info": {
   "codemirror_mode": {
    "name": "ipython",
    "version": 3
   },
   "file_extension": ".py",
   "mimetype": "text/x-python",
   "name": "python",
   "nbconvert_exporter": "python",
   "pygments_lexer": "ipython3",
   "version": "3.9.12"
  }
 },
 "nbformat": 4,
 "nbformat_minor": 5
}
